{
 "cells": [
  {
   "cell_type": "markdown",
   "id": "35b19829",
   "metadata": {},
   "source": [
    "# Разделение видео файла"
   ]
  },
  {
   "cell_type": "markdown",
   "id": "bf7eeda9",
   "metadata": {},
   "source": [
    "К сожалению, пришлось отказаться от сжатия файлов, так как очень сильно нагружало систему и занимало очень долгое время. Было решено делить файл на части и отправлять частями через бота. Данный ноутбук является тестированием деления файла на части."
   ]
  },
  {
   "cell_type": "markdown",
   "id": "00102e1a",
   "metadata": {},
   "source": [
    "### Скачивание файла"
   ]
  },
  {
   "cell_type": "code",
   "execution_count": 38,
   "id": "1998f9b1",
   "metadata": {},
   "outputs": [],
   "source": [
    "import pytube as pt\n",
    "yt = pt.YouTube(link)\n",
    "t = yt.streams.filter(only_audio=True)\n",
    "filename = t[0].download()"
   ]
  },
  {
   "cell_type": "markdown",
   "id": "de9e2459",
   "metadata": {},
   "source": [
    "### Функция определения времени видео"
   ]
  },
  {
   "cell_type": "code",
   "execution_count": 39,
   "id": "6ada07cd",
   "metadata": {},
   "outputs": [],
   "source": [
    "import subprocess\n",
    "def get_length(filename):\n",
    "    result = subprocess.run([\"ffprobe\", \"-v\", \"error\", \"-show_entries\",\n",
    "                             \"format=duration\", \"-of\",\n",
    "                             \"default=noprint_wrappers=1:nokey=1\", filename],\n",
    "        stdout=subprocess.PIPE,\n",
    "        stderr=subprocess.STDOUT)\n",
    "    return float(result.stdout)"
   ]
  },
  {
   "cell_type": "markdown",
   "id": "b88ea575",
   "metadata": {},
   "source": [
    "### Определяем размер файла и вычсляем на сколько частей надо его делить"
   ]
  },
  {
   "cell_type": "code",
   "execution_count": 58,
   "id": "408c7a69",
   "metadata": {},
   "outputs": [],
   "source": [
    "filename = 'test.mp4'"
   ]
  },
  {
   "cell_type": "code",
   "execution_count": 61,
   "id": "e60e41cf",
   "metadata": {},
   "outputs": [
    {
     "name": "stdout",
     "output_type": "stream",
     "text": [
      "File Size in MegaBytes is 104.3241491317749\n"
     ]
    }
   ],
   "source": [
    "import os\n",
    "# get file size in python\n",
    "file_stats = os.stat(filename)\n",
    "file_size = file_stats.st_size / (1024 * 1024)\n",
    "print(f'File Size in MegaBytes is {file_size}')"
   ]
  },
  {
   "cell_type": "code",
   "execution_count": 62,
   "id": "769303d3",
   "metadata": {},
   "outputs": [
    {
     "data": {
      "text/plain": [
       "3"
      ]
     },
     "execution_count": 62,
     "metadata": {},
     "output_type": "execute_result"
    }
   ],
   "source": [
    "import math\n",
    "\n",
    "timesplit = math.ceil(file_size/45)\n",
    "timesplit"
   ]
  },
  {
   "cell_type": "markdown",
   "id": "b7a48d50",
   "metadata": {},
   "source": [
    "### Вычисление времени видео и времени одного куска видео"
   ]
  },
  {
   "cell_type": "code",
   "execution_count": 67,
   "id": "b519fc57",
   "metadata": {},
   "outputs": [
    {
     "data": {
      "text/plain": [
       "17939.551202"
      ]
     },
     "execution_count": 67,
     "metadata": {},
     "output_type": "execute_result"
    }
   ],
   "source": [
    "videoLength = get_length(filename)\n",
    "videoLength"
   ]
  },
  {
   "cell_type": "code",
   "execution_count": 69,
   "id": "173fddad",
   "metadata": {},
   "outputs": [
    {
     "data": {
      "text/plain": [
       "5979.850400666666"
      ]
     },
     "execution_count": 69,
     "metadata": {},
     "output_type": "execute_result"
    }
   ],
   "source": [
    "splitLength = videoLength/timesplit\n",
    "splitLength"
   ]
  },
  {
   "cell_type": "code",
   "execution_count": 78,
   "id": "c0d12963",
   "metadata": {},
   "outputs": [
    {
     "data": {
      "text/plain": [
       "[0.0, 5979.850400666666, 11959.700801333332]"
      ]
     },
     "execution_count": 78,
     "metadata": {},
     "output_type": "execute_result"
    }
   ],
   "source": [
    "starttime = [i * splitLength for i in range(timesplit)]\n",
    "endtime = [(i+1) * splitLength for i in range(timesplit)]\n",
    "starttime"
   ]
  },
  {
   "cell_type": "code",
   "execution_count": 79,
   "id": "78c41063",
   "metadata": {
    "scrolled": false
   },
   "outputs": [
    {
     "data": {
      "text/plain": [
       "[5979.850400666666, 11959.700801333332, 17939.551202]"
      ]
     },
     "execution_count": 79,
     "metadata": {},
     "output_type": "execute_result"
    }
   ],
   "source": [
    "endtime"
   ]
  },
  {
   "cell_type": "markdown",
   "id": "9e668028",
   "metadata": {},
   "source": [
    "### Делим видео на части"
   ]
  },
  {
   "cell_type": "markdown",
   "id": "9bd2843c",
   "metadata": {},
   "source": [
    "Была выбрана библиотека moviepy по причине того, что это самый быстрый способ поделить видео"
   ]
  },
  {
   "cell_type": "code",
   "execution_count": 83,
   "id": "ee63db10",
   "metadata": {},
   "outputs": [
    {
     "name": "stdout",
     "output_type": "stream",
     "text": [
      "Moviepy - Running:\n",
      ">>> \"+ \" \".join(cmd)\n",
      "Moviepy - Command successful\n",
      "Moviepy - Running:\n",
      ">>> \"+ \" \".join(cmd)\n",
      "Moviepy - Command successful\n",
      "Moviepy - Running:\n",
      ">>> \"+ \" \".join(cmd)\n",
      "Moviepy - Command successful\n"
     ]
    }
   ],
   "source": [
    "from moviepy.video.io.ffmpeg_tools import ffmpeg_extract_subclip\n",
    "\n",
    "targetname, _ = os.path.splitext(filename)\n",
    "for i in range(timesplit):\n",
    "    ffmpeg_extract_subclip(filename, starttime[i], endtime[i], targetname=f'{targetname}_part{i}.mp4')"
   ]
  }
 ],
 "metadata": {
  "kernelspec": {
   "display_name": "firstEnv",
   "language": "python",
   "name": "firstenv"
  },
  "language_info": {
   "codemirror_mode": {
    "name": "ipython",
    "version": 3
   },
   "file_extension": ".py",
   "mimetype": "text/x-python",
   "name": "python",
   "nbconvert_exporter": "python",
   "pygments_lexer": "ipython3",
   "version": "3.8.13"
  }
 },
 "nbformat": 4,
 "nbformat_minor": 5
}
